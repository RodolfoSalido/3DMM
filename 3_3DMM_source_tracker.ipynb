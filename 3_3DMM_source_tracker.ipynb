{
 "cells": [
  {
   "cell_type": "code",
   "execution_count": 1,
   "metadata": {},
   "outputs": [],
   "source": [
    "import os.path\n",
    "import glob\n",
    "import pandas as pd\n",
    "from biom import Table, load_table\n",
    "\n",
    "import warnings\n",
    "\n",
    "from qiime2.plugins.feature_table.methods import (rarefy, filter_samples, filter_features,\n",
    "                                                  merge)\n",
    "from qiime2.plugins.feature_table.methods import filter_features_conditionally\n",
    "from qiime2.plugins.feature_table.visualizers import summarize\n",
    "\n",
    "from qiime2 import Artifact\n",
    "from qiime2 import Metadata\n",
    "\n",
    "\n",
    "from skbio import OrdinationResults, TreeNode, DistanceMatrix\n",
    "# from qiime2.plugins.gemelli.actions import (rpca, phylogenetic_rpca_without_taxonomy,\n",
    "#                                             phylogenetic_rpca_with_taxonomy)\n",
    "from qiime2.plugins.emperor.actions import plot, biplot\n",
    "from qiime2.plugins.diversity.actions import (beta,\n",
    "                                              beta_phylogenetic,\n",
    "                                              pcoa)\n",
    "from qiime2.plugins.diversity.pipelines import (alpha,\n",
    "                                                alpha_phylogenetic)\n",
    "from qiime2.plugins.diversity.visualizers import (alpha_rarefaction,adonis,beta_group_significance)\n",
    "from qiime2.plugins.diversity.methods import pcoa\n",
    "from qiime2.plugins import taxa\n",
    "\n",
    "from qiime2.plugins import emperor\n",
    "from qiime2.plugins.empress.actions import community_plot\n",
    "\n",
    "from assets.step_wise_anova import run_stepwise_anova\n",
    "\n",
    "from skbio.stats.distance import permanova, bioenv\n",
    "import statsmodels.stats.multitest as multi \n",
    "from scipy.optimize import curve_fit\n",
    "from scipy import stats\n",
    "%matplotlib inline\n",
    "import matplotlib.pyplot as plt\n",
    "import matplotlib\n",
    "import numpy as np\n",
    "import seaborn as sns\n",
    "import re"
   ]
  },
  {
   "cell_type": "code",
   "execution_count": 2,
   "metadata": {},
   "outputs": [],
   "source": [
    "# classifier\n",
    "from scipy import interp\n",
    "from sklearn import svm, datasets\n",
    "from sklearn.metrics import (roc_curve, auc, precision_recall_curve)\n",
    "from sklearn.model_selection import StratifiedKFold\n",
    "from sklearn import preprocessing\n",
    "from sklearn.preprocessing import label_binarize\n",
    "from sklearn.ensemble import RandomForestClassifier\n",
    "# stats\n",
    "from statsmodels.stats.contingency_tables import mcnemar"
   ]
  },
  {
   "cell_type": "markdown",
   "metadata": {
    "tags": []
   },
   "source": [
    "# Importing files"
   ]
  },
  {
   "cell_type": "code",
   "execution_count": 3,
   "metadata": {},
   "outputs": [],
   "source": [
    "gg2_ft = Artifact.load('./data/katharo_deblur_gg2_feature_table.qza')"
   ]
  },
  {
   "cell_type": "code",
   "execution_count": 4,
   "metadata": {},
   "outputs": [],
   "source": [
    "gg2_taxonomy = Artifact.load('./data/gg2_taxonomy.qza')"
   ]
  },
  {
   "cell_type": "code",
   "execution_count": 5,
   "metadata": {},
   "outputs": [],
   "source": [
    "gg2_taxonomy_df = gg2_taxonomy.view(pd.DataFrame)"
   ]
  },
  {
   "cell_type": "code",
   "execution_count": 6,
   "metadata": {},
   "outputs": [],
   "source": [
    "gg2_tree = Artifact.load('./data/2022.10.phylogeny.asv.nwk.qza')"
   ]
  },
  {
   "cell_type": "code",
   "execution_count": 7,
   "metadata": {},
   "outputs": [],
   "source": [
    "##Updated. Need to update metadata in Qiita study\n",
    "metadata = Metadata.load('./metadata/2023_03_21_3DMM_metadata_to_update_qiita.txt')"
   ]
  },
  {
   "cell_type": "code",
   "execution_count": 8,
   "metadata": {},
   "outputs": [],
   "source": [
    "# feature_metadata = Metadata.load('./metadata/taxonomy.tsv')\n",
    "gg2_feature_metadata = Metadata.load('./metadata/gg2_taxonomy.tsv')"
   ]
  },
  {
   "cell_type": "code",
   "execution_count": 9,
   "metadata": {},
   "outputs": [],
   "source": [
    "metadata_df = metadata.to_dataframe()"
   ]
  },
  {
   "cell_type": "code",
   "execution_count": 10,
   "metadata": {},
   "outputs": [],
   "source": [
    "module_colors= {'Airlock':'tab:red',\n",
    "               'Columbus':'tab:blue',\n",
    "               'JLP':'tab:orange',\n",
    "               'JPM':'tab:green',\n",
    "               'US Lab':'cadetblue',\n",
    "               'Node 1':'tab:purple',\n",
    "               'Node 2':'yellow',\n",
    "               'Node 3':'tab:cyan',\n",
    "               'PMM':'tab:pink'}"
   ]
  },
  {
   "cell_type": "markdown",
   "metadata": {
    "jp-MarkdownHeadingCollapsed": true,
    "tags": []
   },
   "source": [
    "# SourceTracking2"
   ]
  },
  {
   "cell_type": "code",
   "execution_count": 11,
   "metadata": {},
   "outputs": [],
   "source": [
    "st2_metadata = pd.read_csv('./metadata/sourcetracker_metadata.tsv',sep='\\t')"
   ]
  },
  {
   "cell_type": "code",
   "execution_count": 12,
   "metadata": {},
   "outputs": [],
   "source": [
    "for index, row in st2_metadata.iterrows():\n",
    "    st2_metadata.loc[index,'study_id'] = row['#SampleID'].split('.')[0] "
   ]
  },
  {
   "cell_type": "code",
   "execution_count": 13,
   "metadata": {},
   "outputs": [
    {
     "data": {
      "text/plain": [
       "study_id  Env               \n",
       "1024      Soil (non-saline)       1\n",
       "889       Water (saline)          1\n",
       "755       Water (non-saline)      1\n",
       "662       Water (saline)          1\n",
       "1883      Soil (non-saline)       1\n",
       "1713      Soil (non-saline)       1\n",
       "1714      Soil (non-saline)       1\n",
       "1041      Water (non-saline)      2\n",
       "1716      Soil (non-saline)       2\n",
       "1717      Soil (non-saline)       2\n",
       "1711      Soil (non-saline)       3\n",
       "1715      Soil (non-saline)       3\n",
       "1289      Soil (non-saline)       4\n",
       "2382      Soil (non-saline)       4\n",
       "1883      Water (saline)          4\n",
       "1674      Soil (non-saline)       5\n",
       "861       Water (saline)          6\n",
       "1721      Soil (non-saline)       7\n",
       "864       Soil (non-saline)      14\n",
       "1883      Water (non-saline)     21\n",
       "1222      Water (saline)         25\n",
       "723       Water (saline)         26\n",
       "2080      Water (saline)         26\n",
       "990       Soil (non-saline)      38\n",
       "1240      Water (saline)         45\n",
       "945       Water (non-saline)     48\n",
       "755       Soil (non-saline)      48\n",
       "1288      Water (non-saline)     62\n",
       "10317     skin                  134\n",
       "          oral cavity           134\n",
       "          nose                  134\n",
       "12201     urine                 134\n",
       "10317     feces                 134\n",
       "11442     food                  134\n",
       "11950     building materials    134\n",
       "14542     ISS                   392\n",
       "Name: Env, dtype: int64"
      ]
     },
     "execution_count": 13,
     "metadata": {},
     "output_type": "execute_result"
    }
   ],
   "source": [
    "# Sample counts by qiita study_id, and environment. \n",
    "st2_metadata.groupby('study_id').Env.value_counts().sort_values()"
   ]
  },
  {
   "cell_type": "code",
   "execution_count": 14,
   "metadata": {},
   "outputs": [],
   "source": [
    "#Importing SourceTracker2 output. \n",
    "#SourceTracer2 was run on qiime2 CLI\n",
    "m_proportions = Artifact.load('./data/mixing_proportions.qza')"
   ]
  },
  {
   "cell_type": "code",
   "execution_count": 15,
   "metadata": {},
   "outputs": [],
   "source": [
    "proportions_df = m_proportions.view(pd.DataFrame).T.merge(metadata_df,\n",
    "                                                          left_index=True,right_on='original_SampleID')"
   ]
  },
  {
   "cell_type": "code",
   "execution_count": 16,
   "metadata": {},
   "outputs": [],
   "source": [
    "colors = ['olive','cornflowerblue','slateblue',\n",
    "         'indianred','tab:brown','forestgreen','tab:cyan',\n",
    "          'plum','tan','gold','grey']\n",
    "explode = (0.2,0.2,0.2,0,0,0,0,0,0,0,0)\n",
    "legend_labels = list(m_proportions.view(pd.DataFrame).index.str.lower())"
   ]
  },
  {
   "cell_type": "code",
   "execution_count": 17,
   "metadata": {},
   "outputs": [],
   "source": [
    "source_df = pd.DataFrame([])\n",
    "for source in m_proportions.view(pd.DataFrame).index:\n",
    "    block_ = pd.DataFrame(np.array(proportions_df[source]))\n",
    "    block_['source_env'] = source\n",
    "    source_df = source_df.append(block_)"
   ]
  },
  {
   "cell_type": "code",
   "execution_count": 18,
   "metadata": {},
   "outputs": [
    {
     "data": {
      "text/plain": [
       "array(['Soil (non-saline)', 'Water (non-saline)', 'Water (saline)',\n",
       "       'building materials', 'feces', 'food', 'nose', 'oral cavity',\n",
       "       'skin', 'urine', 'Unknown'], dtype=object)"
      ]
     },
     "execution_count": 18,
     "metadata": {},
     "output_type": "execute_result"
    }
   ],
   "source": [
    "source_df['source_env'].unique()"
   ]
  },
  {
   "cell_type": "code",
   "execution_count": 19,
   "metadata": {},
   "outputs": [
    {
     "data": {
      "image/png": "[encoded data removed]",
      "text/plain": [
       "<Figure size 432x288 with 1 Axes>"
      ]
     },
     "metadata": {
      "needs_background": "light"
     },
     "output_type": "display_data"
    }
   ],
   "source": [
    "f, (ax) = plt.subplots(nrows=1,ncols=1,figsize=(6,4))\n",
    "order_ = ['Soil (non-saline)', 'Water (non-saline)', 'Water (saline)',\n",
    "       'building materials',  'food','feces', 'nose', 'oral cavity',\n",
    "       'skin', 'urine', 'Unknown']\n",
    "sns.boxplot(x='source_env',y=0,data=source_df,fliersize=0,order=order_,\n",
    "        palette=colors,ax=ax)\n",
    "sns.stripplot(x='source_env',y=0,data=source_df,order=order_,color='black',alpha=0.1,ax=ax)\n",
    "ax.spines['right'].set_visible(False)\n",
    "ax.spines['left'].set_visible(True)\n",
    "ax.spines['bottom'].set_visible(True)\n",
    "ax.spines['top'].set_visible(False)\n",
    "plt.xticks(rotation=45,ha='right',va='top')\n",
    "plt.xlabel('Source Environment')\n",
    "plt.ylabel('Proportion')\n",
    "plt.savefig('./figs/st2_proportions_boxplot.svg')"
   ]
  },
  {
   "cell_type": "code",
   "execution_count": 20,
   "metadata": {},
   "outputs": [
    {
     "data": {
      "text/plain": [
       "count    393.000000\n",
       "mean       0.073201\n",
       "std        0.110080\n",
       "min        0.001100\n",
       "25%        0.017300\n",
       "50%        0.033800\n",
       "75%        0.078000\n",
       "max        0.903000\n",
       "Name: building materials, dtype: float64"
      ]
     },
     "execution_count": 20,
     "metadata": {},
     "output_type": "execute_result"
    }
   ],
   "source": [
    "proportions_df['building materials'].describe()"
   ]
  },
  {
   "cell_type": "code",
   "execution_count": 21,
   "metadata": {},
   "outputs": [],
   "source": [
    "module_colors= {'Airlock':'tab:red',\n",
    "               'Columbus':'tab:blue',\n",
    "               'JLP':'tab:orange',\n",
    "               'JPM':'tab:green',\n",
    "               'US Lab':'cadetblue',\n",
    "               'Node 1':'tab:purple',\n",
    "               'Node 2':'yellow',\n",
    "               'Node 3':'tab:cyan',\n",
    "               'PMM':'tab:pink'}"
   ]
  },
  {
   "cell_type": "code",
   "execution_count": 22,
   "metadata": {},
   "outputs": [
    {
     "data": {
      "image/png": "[encoded data removed]",
      "text/plain": [
       "<Figure size 1152x576 with 12 Axes>"
      ]
     },
     "metadata": {
      "needs_background": "light"
     },
     "output_type": "display_data"
    }
   ],
   "source": [
    "#Figure S3A-K\n",
    "##setup subplots, 10 potential source environments + 1 unknown bin. \n",
    "index=1\n",
    "rows=3\n",
    "columns=4\n",
    "f, axes = plt.subplots(nrows=rows, ncols=columns, figsize=(16,8),sharey=True,sharex=True)\n",
    "#plt.subplots_adjust(hspace=0.3)\n",
    "\n",
    "labels = ['Airlock','Columbus','JLP','JPM','US Lab','Node 1','Node 2','Node 3','PMM']\n",
    "\n",
    "for source in m_proportions.view(pd.DataFrame).index:\n",
    "    sns.boxplot(x='module',y=source,data=proportions_df,palette=module_colors,\n",
    "                 ax= axes[index//columns,index%columns],fliersize=0)\n",
    "    sns.stripplot(x='module',y=source,data=proportions_df,\n",
    "                 ax= axes[index//columns,index%columns],color='black',alpha=0.3)\n",
    "    axes[index//columns,index%columns].set_xticklabels(labels,rotation=90)\n",
    "    axes[index//columns,index%columns].spines['right'].set_visible(False)\n",
    "    axes[index//columns,index%columns].spines['left'].set_visible(True)\n",
    "    axes[index//columns,index%columns].spines['bottom'].set_visible(True)\n",
    "    axes[index//columns,index%columns].spines['top'].set_visible(False)\n",
    "    index+=1\n",
    "plt.tight_layout()\n",
    "plt.savefig('./figs/st2_proportions_per_module.svg')"
   ]
  },
  {
   "cell_type": "markdown",
   "metadata": {
    "jp-MarkdownHeadingCollapsed": true,
    "tags": []
   },
   "source": [
    "# EMPress"
   ]
  },
  {
   "cell_type": "markdown",
   "metadata": {},
   "source": [
    "Using EMPRess vsiualization tool to evaluate the prevalence of features observed on ISS among source tracking environments. "
   ]
  },
  {
   "cell_type": "code",
   "execution_count": 23,
   "metadata": {},
   "outputs": [],
   "source": [
    "# SourceTracing2 analysis, collapsed at Genera\n",
    "st2_ft_gc = Artifact.load('./data/sourcetracker_table_genuslevel.qza')\n",
    "st2_gc_tree = Artifact.load('./data/sourcetracker_table_genuslevel_tree.qza')\n",
    "st2_metadata = Metadata.load('./metadata/sourcetracker_metadata.tsv')\n",
    "gg2_no_controls_rarefied = Artifact.load('./data/katharo_deblur_gg2_feature_table_no_controls_rarefied.qza')"
   ]
  },
  {
   "cell_type": "code",
   "execution_count": 24,
   "metadata": {},
   "outputs": [
    {
     "data": {
      "text/plain": [
       "Metadata\n",
       "--------\n",
       "1732 IDs x 2 columns\n",
       "Env:        ColumnProperties(type='categorical')\n",
       "SourceSink: ColumnProperties(type='categorical')\n",
       "\n",
       "Call to_dataframe() for a tabular representation."
      ]
     },
     "execution_count": 24,
     "metadata": {},
     "output_type": "execute_result"
    }
   ],
   "source": [
    "st2_metadata"
   ]
  },
  {
   "cell_type": "code",
   "execution_count": 25,
   "metadata": {},
   "outputs": [
    {
     "data": {
      "text/plain": [
       "4780 x 1732 <class 'biom.table.Table'> with 226619 nonzero entries (2% dense)"
      ]
     },
     "execution_count": 25,
     "metadata": {},
     "output_type": "execute_result"
    }
   ],
   "source": [
    "st2_ft_gc.view(Table)"
   ]
  },
  {
   "cell_type": "code",
   "execution_count": 26,
   "metadata": {},
   "outputs": [],
   "source": [
    "# Exclusive subset of ISS samples from SourceTracing analysis \n",
    "st2_ft_gc_f_iss = filter_samples(st2_ft_gc,metadata=st2_metadata, where='Env == \"ISS\"',\n",
    "                                exclude_ids=False).filtered_table"
   ]
  },
  {
   "cell_type": "code",
   "execution_count": 27,
   "metadata": {},
   "outputs": [],
   "source": [
    "# Feature space of ISS from SourceTracing analysis \n",
    "features_3DMM_gc = pd.DataFrame(st2_ft_gc_f_iss.view(pd.DataFrame).columns)\n",
    "features_3DMM_gc.rename(columns={0:'Feature ID'}).set_index('Feature ID').to_csv('./metadata/3DMM_features_gc.tsv',\n",
    "                                                                             sep='\\t')\n",
    "features_3DMM_gc = Metadata.load('./metadata/3DMM_features_gc.tsv')"
   ]
  },
  {
   "cell_type": "code",
   "execution_count": 28,
   "metadata": {},
   "outputs": [],
   "source": [
    "#Calculate counts per genera\n",
    "counts_df = pd.DataFrame(st2_ft_gc_f_iss.view(pd.DataFrame).sum()).rename(columns={0:'Counts'})\n",
    "counts_df['log_counts'] = np.log10(counts_df['Counts'])\n",
    "gg2_feature_metadata_df = gg2_feature_metadata.to_dataframe()\n",
    "for genus in counts_df.index:\n",
    "    taxon = gg2_feature_metadata_df.loc[gg2_feature_metadata_df['Taxon'].str.contains(genus),'Taxon'][0]\n",
    "    counts_df.loc[genus,'Taxon']=taxon\n",
    "counts_df.rename_axis('Feature ID').to_csv('./metadata/3DMM_feature_counts_gc.tsv',\n",
    "                                                                             sep='\\t')\n",
    "\n",
    "counts_metadata = Metadata.load('./metadata/3DMM_feature_counts_gc.tsv')"
   ]
  },
  {
   "cell_type": "code",
   "execution_count": 29,
   "metadata": {},
   "outputs": [
    {
     "data": {
      "text/html": [
       "<div>\n",
       "<style scoped>\n",
       "    .dataframe tbody tr th:only-of-type {\n",
       "        vertical-align: middle;\n",
       "    }\n",
       "\n",
       "    .dataframe tbody tr th {\n",
       "        vertical-align: top;\n",
       "    }\n",
       "\n",
       "    .dataframe thead th {\n",
       "        text-align: right;\n",
       "    }\n",
       "</style>\n",
       "<table border=\"1\" class=\"dataframe\">\n",
       "  <thead>\n",
       "    <tr style=\"text-align: right;\">\n",
       "      <th></th>\n",
       "      <th>Counts</th>\n",
       "      <th>log_counts</th>\n",
       "      <th>Taxon</th>\n",
       "    </tr>\n",
       "    <tr>\n",
       "      <th>Feature ID</th>\n",
       "      <th></th>\n",
       "      <th></th>\n",
       "      <th></th>\n",
       "    </tr>\n",
       "  </thead>\n",
       "  <tbody>\n",
       "    <tr>\n",
       "      <th>g__Heyndrickxia</th>\n",
       "      <td>1.0</td>\n",
       "      <td>0.000000</td>\n",
       "      <td>d__Bacteria; p__Firmicutes_D; c__Bacilli; o__B...</td>\n",
       "    </tr>\n",
       "    <tr>\n",
       "      <th>g__Pseudoclavibacter_A_383750</th>\n",
       "      <td>1.0</td>\n",
       "      <td>0.000000</td>\n",
       "      <td>d__Bacteria; p__Actinobacteriota; c__Actinomyc...</td>\n",
       "    </tr>\n",
       "    <tr>\n",
       "      <th>g__Dickeya_725901</th>\n",
       "      <td>1.0</td>\n",
       "      <td>0.000000</td>\n",
       "      <td>d__Bacteria; p__Proteobacteria; c__Gammaproteo...</td>\n",
       "    </tr>\n",
       "    <tr>\n",
       "      <th>g__Bacillus_AZ_295450</th>\n",
       "      <td>1.0</td>\n",
       "      <td>0.000000</td>\n",
       "      <td>d__Bacteria; p__Firmicutes_D; c__Bacilli; o__B...</td>\n",
       "    </tr>\n",
       "    <tr>\n",
       "      <th>g__Azomonas_648163</th>\n",
       "      <td>1.0</td>\n",
       "      <td>0.000000</td>\n",
       "      <td>d__Bacteria; p__Proteobacteria; c__Gammaproteo...</td>\n",
       "    </tr>\n",
       "    <tr>\n",
       "      <th>...</th>\n",
       "      <td>...</td>\n",
       "      <td>...</td>\n",
       "      <td>...</td>\n",
       "    </tr>\n",
       "    <tr>\n",
       "      <th>g__Streptococcus</th>\n",
       "      <td>505326.0</td>\n",
       "      <td>5.703572</td>\n",
       "      <td>d__Bacteria; p__Firmicutes_D; c__Bacilli; o__L...</td>\n",
       "    </tr>\n",
       "    <tr>\n",
       "      <th>g__Pantoea_A_679409; s__Pantoea septica</th>\n",
       "      <td>607001.0</td>\n",
       "      <td>5.783189</td>\n",
       "      <td>d__Bacteria; p__Proteobacteria; c__Gammaproteo...</td>\n",
       "    </tr>\n",
       "    <tr>\n",
       "      <th>g__Corynebacterium</th>\n",
       "      <td>1221798.0</td>\n",
       "      <td>6.086999</td>\n",
       "      <td>d__Bacteria; p__Actinobacteriota; c__Actinomyc...</td>\n",
       "    </tr>\n",
       "    <tr>\n",
       "      <th>g__Staphylococcus</th>\n",
       "      <td>2144628.0</td>\n",
       "      <td>6.331352</td>\n",
       "      <td>d__Bacteria; p__Firmicutes_D; c__Bacilli; o__S...</td>\n",
       "    </tr>\n",
       "    <tr>\n",
       "      <th>g__Pseudomonas_O_647615</th>\n",
       "      <td>2204934.0</td>\n",
       "      <td>6.343396</td>\n",
       "      <td>d__Bacteria; p__Proteobacteria; c__Gammaproteo...</td>\n",
       "    </tr>\n",
       "  </tbody>\n",
       "</table>\n",
       "<p>1310 rows × 3 columns</p>\n",
       "</div>"
      ],
      "text/plain": [
       "                                            Counts  log_counts  \\\n",
       "Feature ID                                                       \n",
       "g__Heyndrickxia                                1.0    0.000000   \n",
       "g__Pseudoclavibacter_A_383750                  1.0    0.000000   \n",
       "g__Dickeya_725901                              1.0    0.000000   \n",
       "g__Bacillus_AZ_295450                          1.0    0.000000   \n",
       "g__Azomonas_648163                             1.0    0.000000   \n",
       "...                                            ...         ...   \n",
       "g__Streptococcus                          505326.0    5.703572   \n",
       "g__Pantoea_A_679409; s__Pantoea septica   607001.0    5.783189   \n",
       "g__Corynebacterium                       1221798.0    6.086999   \n",
       "g__Staphylococcus                        2144628.0    6.331352   \n",
       "g__Pseudomonas_O_647615                  2204934.0    6.343396   \n",
       "\n",
       "                                                                                     Taxon  \n",
       "Feature ID                                                                                  \n",
       "g__Heyndrickxia                          d__Bacteria; p__Firmicutes_D; c__Bacilli; o__B...  \n",
       "g__Pseudoclavibacter_A_383750            d__Bacteria; p__Actinobacteriota; c__Actinomyc...  \n",
       "g__Dickeya_725901                        d__Bacteria; p__Proteobacteria; c__Gammaproteo...  \n",
       "g__Bacillus_AZ_295450                    d__Bacteria; p__Firmicutes_D; c__Bacilli; o__B...  \n",
       "g__Azomonas_648163                       d__Bacteria; p__Proteobacteria; c__Gammaproteo...  \n",
       "...                                                                                    ...  \n",
       "g__Streptococcus                         d__Bacteria; p__Firmicutes_D; c__Bacilli; o__L...  \n",
       "g__Pantoea_A_679409; s__Pantoea septica  d__Bacteria; p__Proteobacteria; c__Gammaproteo...  \n",
       "g__Corynebacterium                       d__Bacteria; p__Actinobacteriota; c__Actinomyc...  \n",
       "g__Staphylococcus                        d__Bacteria; p__Firmicutes_D; c__Bacilli; o__S...  \n",
       "g__Pseudomonas_O_647615                  d__Bacteria; p__Proteobacteria; c__Gammaproteo...  \n",
       "\n",
       "[1310 rows x 3 columns]"
      ]
     },
     "execution_count": 29,
     "metadata": {},
     "output_type": "execute_result"
    }
   ],
   "source": [
    "#3DMM counts (genera collapsed) sanity check.\n",
    "counts_metadata.to_dataframe().sort_values(by='Counts')"
   ]
  },
  {
   "cell_type": "code",
   "execution_count": 30,
   "metadata": {},
   "outputs": [],
   "source": [
    "counts_3DMM = pd.DataFrame(gg2_no_controls_rarefied.view(pd.DataFrame).sum()).rename(columns={0:'Counts'}).rename_axis('Feature ID')"
   ]
  },
  {
   "cell_type": "code",
   "execution_count": 31,
   "metadata": {},
   "outputs": [],
   "source": [
    "gg2_feature_metadata_wc = gg2_feature_metadata.to_dataframe().merge(counts_3DMM,\n",
    "                                                                    left_index=True,\n",
    "                                                                    right_index=True,\n",
    "                                                                    how='left')"
   ]
  },
  {
   "cell_type": "code",
   "execution_count": 32,
   "metadata": {},
   "outputs": [
    {
     "data": {
      "text/plain": [
       "array(['d__Bacteria; p__Actinobacteriota; c__Actinomycetia; o__Mycobacteriales; f__Mycobacteriaceae; g__Lawsonella; s__Lawsonella clevelandensis',\n",
       "       'd__Bacteria; p__Proteobacteria; c__Gammaproteobacteria; o__Pseudomonadales_660879; f__Moraxellaceae; g__; s__',\n",
       "       'd__Bacteria; p__Proteobacteria; c__Gammaproteobacteria; o__Enterobacterales_A_737866; f__Enterobacteriaceae_A; g__Pantoea_A_679409; s__Pantoea septica',\n",
       "       'd__Bacteria; p__Proteobacteria; c__Gammaproteobacteria; o__Pseudomonadales_650611; f__Pseudomonadaceae; g__Pseudomonas_O_647615; s__Pseudomonas_O_647615 parafulva',\n",
       "       'd__Bacteria; p__Firmicutes_D; c__Bacilli; o__Staphylococcales; f__Staphylococcaceae; g__Staphylococcus; s__Staphylococcus caprae'],\n",
       "      dtype=object)"
      ]
     },
     "execution_count": 32,
     "metadata": {},
     "output_type": "execute_result"
    }
   ],
   "source": [
    "#3DMM counts (sOTU level) sanity check.\n",
    "#Top genera by counts roughly matches data resolved at sOTU level. \n",
    "gg2_feature_metadata_wc.sort_values(by='Counts',na_position='first')['Taxon'].tail(5).values"
   ]
  },
  {
   "cell_type": "code",
   "execution_count": 33,
   "metadata": {},
   "outputs": [
    {
     "data": {
      "text/plain": [
       "4718 x 1340 <class 'biom.table.Table'> with 183953 nonzero entries (2% dense)"
      ]
     },
     "execution_count": 33,
     "metadata": {},
     "output_type": "execute_result"
    }
   ],
   "source": [
    "#Exclude 3DMM samples for prevalence barplotting\n",
    "st2_ft_gc_f = filter_samples(st2_ft_gc,metadata=st2_metadata, where='Env == \"ISS\"',\n",
    "                                exclude_ids=True).filtered_table\n",
    "st2_ft_gc_f.view(Table)"
   ]
  },
  {
   "cell_type": "code",
   "execution_count": 34,
   "metadata": {},
   "outputs": [
    {
     "data": {
      "text/plain": [
       "1248 x 1340 <class 'biom.table.Table'> with 110198 nonzero entries (6% dense)"
      ]
     },
     "execution_count": 34,
     "metadata": {},
     "output_type": "execute_result"
    }
   ],
   "source": [
    "#Subset SourceTracker2 analysis feature space to only represent features observed in 3DMM samples \n",
    "st2_ft_gc_ff = filter_features(st2_ft_gc_f,metadata=features_3DMM_gc).filtered_table\n",
    "st2_ft_gc_ff.view(Table)"
   ]
  },
  {
   "cell_type": "code",
   "execution_count": 35,
   "metadata": {},
   "outputs": [
    {
     "name": "stderr",
     "output_type": "stream",
     "text": [
      "/Users/rsalidob/miniconda3/envs/qiime2-2021.8/lib/python3.8/site-packages/empress/tools.py:251: DataMatchingWarning: 626 feature(s) in the table were not present as tips in the tree. These feature(s) have been removed from the visualization.\n",
      "  warnings.warn(\n"
     ]
    },
    {
     "name": "stdout",
     "output_type": "stream",
     "text": [
      "Removed 3 empty sample(s).\n"
     ]
    }
   ],
   "source": [
    "st2_gc_empress = community_plot(st2_gc_tree,\n",
    "                                   st2_ft_gc_ff,\n",
    "                                   sample_metadata=st2_metadata,\n",
    "                                feature_metadata=counts_metadata,\n",
    "                                   ignore_missing_samples=True,\n",
    "                                   filter_extra_samples=False,\n",
    "                                   filter_missing_features=True)"
   ]
  },
  {
   "cell_type": "code",
   "execution_count": 36,
   "metadata": {},
   "outputs": [
    {
     "data": {
      "text/plain": [
       "'./output/st2_empress_gc.qzv'"
      ]
     },
     "execution_count": 36,
     "metadata": {},
     "output_type": "execute_result"
    }
   ],
   "source": [
    "st2_gc_empress.visualization.save('./output/st2_empress_gc.qzv')"
   ]
  },
  {
   "cell_type": "code",
   "execution_count": 37,
   "metadata": {},
   "outputs": [],
   "source": [
    "#Quantitative analysis of g__Staphylococcus prevalence among potential source environments"
   ]
  },
  {
   "cell_type": "code",
   "execution_count": 38,
   "metadata": {},
   "outputs": [
    {
     "data": {
      "text/plain": [
       "11442.G72461                                                     132915.0\n",
       "11442.G72480                                                     658667.0\n",
       "11442.G72506                                                      43342.0\n",
       "11442.G72517                                                     171691.0\n",
       "11442.G72527                                                     115351.0\n",
       "                                                                   ...   \n",
       "1883.2011.291.Crump.Artic.LTREB.main.lane4.NoIndex                 1241.0\n",
       "2382.SH008.C6.HA.1.726.bulk.9.12.lane7.NoIndex.L007.sequences     16428.0\n",
       "2382.SH007.C6.RH.1.501.bulk.4.12.lane7.NoIndex.L007.sequences     17623.0\n",
       "2382.MU002.C3.HA.2.681.bulk.9.12.lane7.NoIndex.L007.sequences     13812.0\n",
       "2382.DPOO1.C1.HA.5.646.bulk.9.12.lane7.NoIndex.L007.sequences     15173.0\n",
       "Length: 1340, dtype: float64"
      ]
     },
     "execution_count": 38,
     "metadata": {},
     "output_type": "execute_result"
    }
   ],
   "source": [
    "#Per sample read counts\n",
    "st2_ft_gc_ff.view(pd.DataFrame).sum(axis=1)"
   ]
  },
  {
   "cell_type": "code",
   "execution_count": 39,
   "metadata": {},
   "outputs": [
    {
     "data": {
      "text/plain": [
       "1180 x 1317 <class 'biom.table.Table'> with 61375 nonzero entries (3% dense)"
      ]
     },
     "execution_count": 39,
     "metadata": {},
     "output_type": "execute_result"
    }
   ],
   "source": [
    "st2_ft_gc_ff_rare = rarefy(st2_ft_gc_ff,sampling_depth=1000).rarefied_table\n",
    "st2_ft_gc_ff_rare.view(Table)"
   ]
  },
  {
   "cell_type": "code",
   "execution_count": 40,
   "metadata": {},
   "outputs": [],
   "source": [
    "staph_pos = st2_ft_gc_ff_rare.view(pd.DataFrame).loc[st2_ft_gc_ff_rare.view(pd.DataFrame)['g__Staphylococcus']>0].index"
   ]
  },
  {
   "cell_type": "code",
   "execution_count": 41,
   "metadata": {},
   "outputs": [
    {
     "data": {
      "text/plain": [
       "514"
      ]
     },
     "execution_count": 41,
     "metadata": {},
     "output_type": "execute_result"
    }
   ],
   "source": [
    "len(staph_pos)"
   ]
  },
  {
   "cell_type": "code",
   "execution_count": 42,
   "metadata": {},
   "outputs": [],
   "source": [
    "st2_metadata_df =st2_metadata.to_dataframe()"
   ]
  },
  {
   "cell_type": "code",
   "execution_count": 43,
   "metadata": {},
   "outputs": [
    {
     "data": {
      "text/plain": [
       "nose                  130\n",
       "skin                  129\n",
       "urine                  86\n",
       "building materials     51\n",
       "food                   42\n",
       "oral cavity            25\n",
       "Water (non-saline)     19\n",
       "Water (saline)         17\n",
       "feces                   8\n",
       "Soil (non-saline)       7\n",
       "Name: Env, dtype: int64"
      ]
     },
     "execution_count": 43,
     "metadata": {},
     "output_type": "execute_result"
    }
   ],
   "source": [
    "st2_metadata_df.loc[st2_metadata_df.index.isin(staph_pos)]['Env'].value_counts()"
   ]
  },
  {
   "cell_type": "code",
   "execution_count": 44,
   "metadata": {},
   "outputs": [
    {
     "data": {
      "text/plain": [
       "nose                  0.970149\n",
       "skin                  0.962687\n",
       "urine                 0.641791\n",
       "building materials    0.380597\n",
       "food                  0.313433\n",
       "oral cavity           0.186567\n",
       "Water (non-saline)    0.141791\n",
       "Water (saline)        0.126866\n",
       "feces                 0.059701\n",
       "Soil (non-saline)     0.052239\n",
       "ISS                        NaN\n",
       "Name: Env, dtype: float64"
      ]
     },
     "execution_count": 44,
     "metadata": {},
     "output_type": "execute_result"
    }
   ],
   "source": [
    "#Some stoichiometric differences between these numbers and those from publised paper can be attributed to \n",
    "#rarefaction @ 1000 sequences per sample. \n",
    "prevalence_df = st2_metadata_df.loc[st2_metadata_df.index.isin(staph_pos)]['Env'].value_counts()/st2_metadata_df['Env'].value_counts()\n",
    "prevalence_df.sort_values(ascending=False)"
   ]
  },
  {
   "cell_type": "code",
   "execution_count": null,
   "metadata": {},
   "outputs": [],
   "source": []
  }
 ],
 "metadata": {
  "kernelspec": {
   "display_name": "Python 3 (ipykernel)",
   "language": "python",
   "name": "python3"
  },
  "language_info": {
   "codemirror_mode": {
    "name": "ipython",
    "version": 3
   },
   "file_extension": ".py",
   "mimetype": "text/x-python",
   "name": "python",
   "nbconvert_exporter": "python",
   "pygments_lexer": "ipython3",
   "version": "3.8.10"
  }
 },
 "nbformat": 4,
 "nbformat_minor": 4
}
